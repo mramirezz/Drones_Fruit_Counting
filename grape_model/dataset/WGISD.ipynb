{
 "cells": [
  {
   "cell_type": "markdown",
   "metadata": {},
   "source": [
    "# Embrapa Wine Grape Instance Segmentation Dataset (WGISD)\n",
    "\n",
    "## Why was the dataset created?\n",
    "\n",
    "Embrapa WGISD (Wine Grape Instance Segmentation Dataset) was created to provide images and annotation to study\n",
    "object detection and instance segmentation in image-based monitoring and field robotics for viticulture. It provides\n",
    "instances from five different grape varieties taken on field. These instances shows variance in grape pose, illumination\n",
    "and focus, including genetic and phenological variations as shape, color and compactness."
   ]
  },
  {
   "cell_type": "markdown",
   "metadata": {},
   "source": [
    "# Dataset Composition"
   ]
  },
  {
   "cell_type": "code",
   "execution_count": 1,
   "metadata": {},
   "outputs": [],
   "source": [
    "varietals = ['CDY', 'CFR', 'CSV', 'SVB', 'SYH']"
   ]
  },
  {
   "cell_type": "markdown",
   "metadata": {},
   "source": [
    "## How many instances of each type are there?"
   ]
  },
  {
   "cell_type": "code",
   "execution_count": 2,
   "metadata": {},
   "outputs": [],
   "source": [
    "import os\n",
    "import numpy as np"
   ]
  },
  {
   "cell_type": "code",
   "execution_count": 3,
   "metadata": {},
   "outputs": [],
   "source": [
    "instances = {v: [] for v in varietals}\n",
    "\n",
    "for dirname, dirnames, filenames in os.walk('.'):\n",
    "    if dirname == '.':\n",
    "        for filename in [f for f in filenames if f.endswith('.txt')]:\n",
    "            for v in varietals:\n",
    "                if filename.startswith(v):\n",
    "                    instances[v].append(filename[:-4])"
   ]
  },
  {
   "cell_type": "code",
   "execution_count": 4,
   "metadata": {},
   "outputs": [
    {
     "data": {
      "text/plain": [
       "{'CDY': 0, 'CFR': 0, 'CSV': 0, 'SVB': 0, 'SYH': 0}"
      ]
     },
     "execution_count": 4,
     "metadata": {},
     "output_type": "execute_result"
    }
   ],
   "source": [
    "n_vimages = {v: len(inst_v) for v, inst_v in instances.items()}\n",
    "n_vimages"
   ]
  },
  {
   "cell_type": "code",
   "execution_count": 5,
   "metadata": {},
   "outputs": [
    {
     "data": {
      "text/plain": [
       "0"
      ]
     },
     "execution_count": 5,
     "metadata": {},
     "output_type": "execute_result"
    }
   ],
   "source": [
    "n_images = np.array([n for __, n in n_vimages.items()]).sum()\n",
    "n_images"
   ]
  },
  {
   "cell_type": "markdown",
   "metadata": {},
   "source": [
    "### Bounding boxes"
   ]
  },
  {
   "cell_type": "code",
   "execution_count": 6,
   "metadata": {},
   "outputs": [],
   "source": [
    "n_iboxes = {v: {} for v in varietals}\n",
    "\n",
    "for v in varietals:\n",
    "    for ii in instances[v]:\n",
    "        annot_file = ii + '.txt'\n",
    "        bboxes = np.loadtxt(annot_file)\n",
    "        n_iboxes[v][ii] = bboxes.shape[0]"
   ]
  },
  {
   "cell_type": "code",
   "execution_count": 7,
   "metadata": {},
   "outputs": [
    {
     "data": {
      "text/plain": [
       "{'CDY': 0.0, 'CFR': 0.0, 'CSV': 0.0, 'SVB': 0.0, 'SYH': 0.0}"
      ]
     },
     "execution_count": 7,
     "metadata": {},
     "output_type": "execute_result"
    }
   ],
   "source": [
    "n_vboxes = {v: np.array([n for ii, n in n_iboxes[v].items()]).sum() for v in varietals}\n",
    "n_vboxes"
   ]
  },
  {
   "cell_type": "markdown",
   "metadata": {},
   "source": [
    "### Masks"
   ]
  },
  {
   "cell_type": "code",
   "execution_count": 8,
   "metadata": {},
   "outputs": [],
   "source": [
    "n_imasks = {v: {} for v in varietals}\n",
    "\n",
    "for v in varietals:\n",
    "    for ii in instances[v]:\n",
    "        annot_file = ii + '.npz'\n",
    "        if os.path.isfile(annot_file):\n",
    "            masks = np.load(annot_file)['arr_0']\n",
    "            n_imasks[v][ii] = masks.shape[2]"
   ]
  },
  {
   "cell_type": "markdown",
   "metadata": {},
   "source": [
    "There is a mask for each bounding box in the masked images?"
   ]
  },
  {
   "cell_type": "code",
   "execution_count": 9,
   "metadata": {},
   "outputs": [],
   "source": [
    "for v in varietals:\n",
    "    for ii in n_imasks[v]:\n",
    "        assert(n_imasks[v][ii] == n_iboxes[v][ii])"
   ]
  },
  {
   "cell_type": "code",
   "execution_count": 10,
   "metadata": {},
   "outputs": [
    {
     "data": {
      "text/plain": [
       "{'CDY': 0.0, 'CFR': 0.0, 'CSV': 0.0, 'SVB': 0.0, 'SYH': 0.0}"
      ]
     },
     "execution_count": 10,
     "metadata": {},
     "output_type": "execute_result"
    }
   ],
   "source": [
    "n_vmasks = {v: np.array([n for ii, n in n_imasks[v].items()]).sum() for v in varietals}\n",
    "n_vmasks"
   ]
  },
  {
   "cell_type": "code",
   "execution_count": 11,
   "metadata": {},
   "outputs": [],
   "source": [
    "import pandas as pd"
   ]
  },
  {
   "cell_type": "code",
   "execution_count": 12,
   "metadata": {},
   "outputs": [
    {
     "data": {
      "text/plain": [
       "{'CDY': 0, 'CFR': 0, 'CSV': 0, 'SVB': 0, 'SYH': 0}"
      ]
     },
     "execution_count": 12,
     "metadata": {},
     "output_type": "execute_result"
    }
   ],
   "source": [
    "n_vimages"
   ]
  },
  {
   "cell_type": "code",
   "execution_count": 13,
   "metadata": {},
   "outputs": [
    {
     "data": {
      "text/html": [
       "<div>\n",
       "<style scoped>\n",
       "    .dataframe tbody tr th:only-of-type {\n",
       "        vertical-align: middle;\n",
       "    }\n",
       "\n",
       "    .dataframe tbody tr th {\n",
       "        vertical-align: top;\n",
       "    }\n",
       "\n",
       "    .dataframe thead th {\n",
       "        text-align: right;\n",
       "    }\n",
       "</style>\n",
       "<table border=\"1\" class=\"dataframe\">\n",
       "  <thead>\n",
       "    <tr style=\"text-align: right;\">\n",
       "      <th></th>\n",
       "      <th>Images</th>\n",
       "      <th>BoxedBunches</th>\n",
       "      <th>MaskedBunches</th>\n",
       "    </tr>\n",
       "  </thead>\n",
       "  <tbody>\n",
       "    <tr>\n",
       "      <th>CDY</th>\n",
       "      <td>0</td>\n",
       "      <td>0.0</td>\n",
       "      <td>0.0</td>\n",
       "    </tr>\n",
       "    <tr>\n",
       "      <th>CFR</th>\n",
       "      <td>0</td>\n",
       "      <td>0.0</td>\n",
       "      <td>0.0</td>\n",
       "    </tr>\n",
       "    <tr>\n",
       "      <th>CSV</th>\n",
       "      <td>0</td>\n",
       "      <td>0.0</td>\n",
       "      <td>0.0</td>\n",
       "    </tr>\n",
       "    <tr>\n",
       "      <th>SVB</th>\n",
       "      <td>0</td>\n",
       "      <td>0.0</td>\n",
       "      <td>0.0</td>\n",
       "    </tr>\n",
       "    <tr>\n",
       "      <th>SYH</th>\n",
       "      <td>0</td>\n",
       "      <td>0.0</td>\n",
       "      <td>0.0</td>\n",
       "    </tr>\n",
       "  </tbody>\n",
       "</table>\n",
       "</div>"
      ],
      "text/plain": [
       "    Images BoxedBunches MaskedBunches\n",
       "CDY      0          0.0           0.0\n",
       "CFR      0          0.0           0.0\n",
       "CSV      0          0.0           0.0\n",
       "SVB      0          0.0           0.0\n",
       "SYH      0          0.0           0.0"
      ]
     },
     "execution_count": 13,
     "metadata": {},
     "output_type": "execute_result"
    }
   ],
   "source": [
    "df = pd.DataFrame(index=varietals, columns=['Images', 'BoxedBunches', 'MaskedBunches'])\n",
    "for v, val in n_vimages.items():\n",
    "    df.loc[v, 'Images'] = val\n",
    "    df.loc[v, 'BoxedBunches'] = n_vboxes[v]\n",
    "    df.loc[v, 'MaskedBunches'] = n_vmasks[v]\n",
    "     \n",
    "df"
   ]
  },
  {
   "cell_type": "code",
   "execution_count": 14,
   "metadata": {},
   "outputs": [
    {
     "data": {
      "text/plain": [
       "Images             0\n",
       "BoxedBunches     0.0\n",
       "MaskedBunches    0.0\n",
       "dtype: object"
      ]
     },
     "execution_count": 14,
     "metadata": {},
     "output_type": "execute_result"
    }
   ],
   "source": [
    "df.sum()"
   ]
  },
  {
   "cell_type": "markdown",
   "metadata": {},
   "source": [
    "## Are there recommended data splits or evaluation measures?"
   ]
  },
  {
   "cell_type": "code",
   "execution_count": 15,
   "metadata": {},
   "outputs": [
    {
     "data": {
      "text/plain": [
       "242"
      ]
     },
     "execution_count": 15,
     "metadata": {},
     "output_type": "execute_result"
    }
   ],
   "source": [
    "with open('train.txt', 'r') as fp:\n",
    "    train = fp.readlines()\n",
    "train = set([i[:-1] for i in train])\n",
    "\n",
    "len(train)"
   ]
  },
  {
   "cell_type": "code",
   "execution_count": 16,
   "metadata": {},
   "outputs": [
    {
     "data": {
      "text/plain": [
       "58"
      ]
     },
     "execution_count": 16,
     "metadata": {},
     "output_type": "execute_result"
    }
   ],
   "source": [
    "with open('test.txt', 'r') as fp:\n",
    "    test = fp.readlines()\n",
    "test = set([i[:-1] for i in test])\n",
    "\n",
    "len(test)"
   ]
  },
  {
   "cell_type": "markdown",
   "metadata": {},
   "source": [
    "Assert train and test are _disjoints_ :"
   ]
  },
  {
   "cell_type": "code",
   "execution_count": 17,
   "metadata": {},
   "outputs": [
    {
     "data": {
      "text/plain": [
       "set()"
      ]
     },
     "execution_count": 17,
     "metadata": {},
     "output_type": "execute_result"
    }
   ],
   "source": [
    "train.intersection(test)"
   ]
  },
  {
   "cell_type": "code",
   "execution_count": 18,
   "metadata": {},
   "outputs": [],
   "source": [
    "data = []\n",
    "for v, val in n_iboxes.items():\n",
    "    for i in val:\n",
    "        if i in train:\n",
    "            sp = 'Train'\n",
    "        else:\n",
    "            sp = 'Test'\n",
    "            \n",
    "        if i in n_imasks[v]:\n",
    "            nm = n_imasks[v][i]\n",
    "        else:\n",
    "            nm = 0\n",
    "            \n",
    "        data.append((i, v, sp, 1, n_iboxes[v][i], nm))\n",
    "\n",
    "dfi = pd.DataFrame(data, \n",
    "                   columns=['Inst', 'Variety', 'Split', 'Image', 'BoxedBunches', 'MaskedBunches']).set_index('Inst')"
   ]
  },
  {
   "cell_type": "code",
   "execution_count": 19,
   "metadata": {},
   "outputs": [
    {
     "data": {
      "text/html": [
       "<div>\n",
       "<style scoped>\n",
       "    .dataframe tbody tr th:only-of-type {\n",
       "        vertical-align: middle;\n",
       "    }\n",
       "\n",
       "    .dataframe tbody tr th {\n",
       "        vertical-align: top;\n",
       "    }\n",
       "\n",
       "    .dataframe thead th {\n",
       "        text-align: right;\n",
       "    }\n",
       "</style>\n",
       "<table border=\"1\" class=\"dataframe\">\n",
       "  <thead>\n",
       "    <tr style=\"text-align: right;\">\n",
       "      <th></th>\n",
       "      <th>Variety</th>\n",
       "      <th>Image</th>\n",
       "      <th>BoxedBunches</th>\n",
       "      <th>MaskedBunches</th>\n",
       "    </tr>\n",
       "    <tr>\n",
       "      <th>Split</th>\n",
       "      <th></th>\n",
       "      <th></th>\n",
       "      <th></th>\n",
       "      <th></th>\n",
       "    </tr>\n",
       "  </thead>\n",
       "  <tbody>\n",
       "  </tbody>\n",
       "</table>\n",
       "</div>"
      ],
      "text/plain": [
       "Empty DataFrame\n",
       "Columns: [Variety, Image, BoxedBunches, MaskedBunches]\n",
       "Index: []"
      ]
     },
     "execution_count": 19,
     "metadata": {},
     "output_type": "execute_result"
    }
   ],
   "source": [
    "dfi.groupby(['Split']).sum()"
   ]
  },
  {
   "cell_type": "code",
   "execution_count": 20,
   "metadata": {},
   "outputs": [
    {
     "data": {
      "text/plain": [
       "Variety          0\n",
       "Image            0\n",
       "BoxedBunches     0\n",
       "MaskedBunches    0\n",
       "dtype: object"
      ]
     },
     "execution_count": 20,
     "metadata": {},
     "output_type": "execute_result"
    }
   ],
   "source": [
    "dfi.groupby(['Split']).sum().sum()"
   ]
  },
  {
   "cell_type": "code",
   "execution_count": null,
   "metadata": {},
   "outputs": [],
   "source": []
  }
 ],
 "metadata": {
  "kernelspec": {
   "display_name": "Geodata Environment",
   "language": "python",
   "name": "geodata"
  },
  "language_info": {
   "codemirror_mode": {
    "name": "ipython",
    "version": 3
   },
   "file_extension": ".py",
   "mimetype": "text/x-python",
   "name": "python",
   "nbconvert_exporter": "python",
   "pygments_lexer": "ipython3",
   "version": "3.12.0"
  }
 },
 "nbformat": 4,
 "nbformat_minor": 2
}
